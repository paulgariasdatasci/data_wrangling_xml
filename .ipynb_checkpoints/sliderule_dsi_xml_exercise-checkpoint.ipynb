{
 "cells": [
  {
   "cell_type": "markdown",
   "metadata": {},
   "source": [
    "# XML example and exercise\n",
    "****\n",
    "+ study examples of accessing nodes in XML tree structure  \n",
    "+ work on exercise to be completed and submitted\n",
    "****\n",
    "+ reference: https://docs.python.org/2.7/library/xml.etree.elementtree.html\n",
    "+ data source: http://www.dbis.informatik.uni-goettingen.de/Mondial\n",
    "****"
   ]
  },
  {
   "cell_type": "code",
   "execution_count": 1,
   "metadata": {
    "collapsed": true
   },
   "outputs": [],
   "source": [
    "import numpy as np\n",
    "import pandas as pd\n",
    "from xml.etree import ElementTree as ET"
   ]
  },
  {
   "cell_type": "markdown",
   "metadata": {},
   "source": [
    "## XML example\n",
    "\n",
    "+ for details about tree traversal and iterators, see https://docs.python.org/2.7/library/xml.etree.elementtree.html"
   ]
  },
  {
   "cell_type": "code",
   "execution_count": 2,
   "metadata": {
    "collapsed": true
   },
   "outputs": [],
   "source": [
    "document_tree = ET.parse( './data/mondial_database_less.xml' )"
   ]
  },
  {
   "cell_type": "code",
   "execution_count": 3,
   "metadata": {
    "collapsed": false
   },
   "outputs": [
    {
     "name": "stdout",
     "output_type": "stream",
     "text": [
      "Albania\n",
      "Greece\n",
      "Macedonia\n",
      "Serbia\n",
      "Montenegro\n",
      "Kosovo\n",
      "Andorra\n"
     ]
    }
   ],
   "source": [
    "# print names of all countries\n",
    "for child in document_tree.getroot():\n",
    "    print child.find('name').text"
   ]
  },
  {
   "cell_type": "code",
   "execution_count": 4,
   "metadata": {
    "collapsed": false
   },
   "outputs": [
    {
     "name": "stdout",
     "output_type": "stream",
     "text": [
      "* Albania: Tirana, Shkodër, Durrës, Vlorë, Elbasan, Korçë\n",
      "* Greece: Komotini, Kavala, Athina, Peiraias, Peristeri, Acharnes, Patra, Kozani, Kerkyra, Ioannina, Thessaloniki, Iraklio, Chania, Ermoupoli, Rhodes, Tripoli, Lamia, Chalkida, Larissa, Volos, Mytilini, Karyes\n",
      "* Macedonia: Skopje, Kumanovo\n",
      "* Serbia: Beograd, Novi Sad, Niš\n",
      "* Montenegro: Podgorica\n",
      "* Kosovo: Prishtine\n",
      "* Andorra: Andorra la Vella\n"
     ]
    }
   ],
   "source": [
    "# print names of all countries and their cities\n",
    "for element in document_tree.iterfind('country'):\n",
    "    print '* ' + element.find('name').text + ':',\n",
    "    capitals_string = ''\n",
    "    for subelement in element.getiterator('city'):\n",
    "        capitals_string += subelement.find('name').text + ', '\n",
    "    print capitals_string[:-2]"
   ]
  },
  {
   "cell_type": "markdown",
   "metadata": {},
   "source": [
    "****\n",
    "## XML exercise\n",
    "\n",
    "Using data in 'data/mondial_database.xml', the examples above, and refering to https://docs.python.org/2.7/library/xml.etree.elementtree.html, find\n",
    "\n",
    "1. 10 countries with the lowest infant mortality rates\n",
    "2. 10 cities with the largest population\n",
    "3. 10 ethnic groups with the largest overall populations (sum of best/latest estimates over all countries)\n",
    "4. name and country of a) longest river, b) largest lake and c) airport at highest elevation"
   ]
  },
  {
   "cell_type": "code",
   "execution_count": 5,
   "metadata": {
    "collapsed": true
   },
   "outputs": [],
   "source": [
    "document = ET.parse( './data/mondial_database.xml' )"
   ]
  },
  {
   "cell_type": "markdown",
   "metadata": {},
   "source": [
    "## The top 10 countries with the lowest mortality rates"
   ]
  },
  {
   "cell_type": "code",
   "execution_count": 6,
   "metadata": {
    "collapsed": false
   },
   "outputs": [
    {
     "data": {
      "text/html": [
       "<div>\n",
       "<table border=\"1\" class=\"dataframe\">\n",
       "  <thead>\n",
       "    <tr style=\"text-align: right;\">\n",
       "      <th></th>\n",
       "      <th>Country</th>\n",
       "      <th>Infant_mortality</th>\n",
       "    </tr>\n",
       "  </thead>\n",
       "  <tbody>\n",
       "    <tr>\n",
       "      <th>36</th>\n",
       "      <td>Monaco</td>\n",
       "      <td>1.81</td>\n",
       "    </tr>\n",
       "    <tr>\n",
       "      <th>90</th>\n",
       "      <td>Japan</td>\n",
       "      <td>2.13</td>\n",
       "    </tr>\n",
       "    <tr>\n",
       "      <th>109</th>\n",
       "      <td>Bermuda</td>\n",
       "      <td>2.48</td>\n",
       "    </tr>\n",
       "    <tr>\n",
       "      <th>34</th>\n",
       "      <td>Norway</td>\n",
       "      <td>2.48</td>\n",
       "    </tr>\n",
       "    <tr>\n",
       "      <th>98</th>\n",
       "      <td>Singapore</td>\n",
       "      <td>2.53</td>\n",
       "    </tr>\n",
       "    <tr>\n",
       "      <th>35</th>\n",
       "      <td>Sweden</td>\n",
       "      <td>2.60</td>\n",
       "    </tr>\n",
       "    <tr>\n",
       "      <th>8</th>\n",
       "      <td>Czech Republic</td>\n",
       "      <td>2.63</td>\n",
       "    </tr>\n",
       "    <tr>\n",
       "      <th>72</th>\n",
       "      <td>Hong Kong</td>\n",
       "      <td>2.73</td>\n",
       "    </tr>\n",
       "    <tr>\n",
       "      <th>73</th>\n",
       "      <td>Macao</td>\n",
       "      <td>3.13</td>\n",
       "    </tr>\n",
       "    <tr>\n",
       "      <th>39</th>\n",
       "      <td>Iceland</td>\n",
       "      <td>3.15</td>\n",
       "    </tr>\n",
       "  </tbody>\n",
       "</table>\n",
       "</div>"
      ],
      "text/plain": [
       "            Country  Infant_mortality\n",
       "36           Monaco              1.81\n",
       "90            Japan              2.13\n",
       "109         Bermuda              2.48\n",
       "34           Norway              2.48\n",
       "98        Singapore              2.53\n",
       "35           Sweden              2.60\n",
       "8    Czech Republic              2.63\n",
       "72        Hong Kong              2.73\n",
       "73            Macao              3.13\n",
       "39          Iceland              3.15"
      ]
     },
     "execution_count": 6,
     "metadata": {},
     "output_type": "execute_result"
    }
   ],
   "source": [
    "country_list_inf = []\n",
    "country_list = []\n",
    "for element in document.getroot():\n",
    "    for subelement in element.getiterator('infant_mortality'):\n",
    "        country_list.append( element.find('name').text )\n",
    "        country_list_inf.append( np.float(subelement.text))\n",
    "        #print element.find('name').text+' : '+subelement.text+','\n",
    "        #country_list.append(element.find('name').text)\n",
    "        #country_inf_mortality = np.hstack([country_inf_mortality,np.float(subelement.text)])\n",
    "    \n",
    "cim = {'Country':country_list, 'Infant_mortality':country_list_inf}\n",
    "df = pd.DataFrame(data=cim)\n",
    "df.sort_values('Infant_mortality',ascending=True).head(10)\n"
   ]
  },
  {
   "cell_type": "markdown",
   "metadata": {},
   "source": [
    "## The 10 cities with the largest population"
   ]
  },
  {
   "cell_type": "code",
   "execution_count": 7,
   "metadata": {
    "collapsed": false,
    "scrolled": false
   },
   "outputs": [
    {
     "data": {
      "text/html": [
       "<div>\n",
       "<table border=\"1\" class=\"dataframe\">\n",
       "  <thead>\n",
       "    <tr style=\"text-align: right;\">\n",
       "      <th></th>\n",
       "      <th></th>\n",
       "      <th>Population</th>\n",
       "    </tr>\n",
       "    <tr>\n",
       "      <th>City</th>\n",
       "      <th>Year</th>\n",
       "      <th></th>\n",
       "    </tr>\n",
       "  </thead>\n",
       "  <tbody>\n",
       "    <tr>\n",
       "      <th rowspan=\"2\" valign=\"top\">Shanghai</th>\n",
       "      <th>2010</th>\n",
       "      <td>22315474</td>\n",
       "    </tr>\n",
       "    <tr>\n",
       "      <th>2000</th>\n",
       "      <td>15758892</td>\n",
       "    </tr>\n",
       "    <tr>\n",
       "      <th>Delhi</th>\n",
       "      <th>2001</th>\n",
       "      <td>12877470</td>\n",
       "    </tr>\n",
       "    <tr>\n",
       "      <th rowspan=\"2\" valign=\"top\">Mumbai</th>\n",
       "      <th>2011</th>\n",
       "      <td>12442373</td>\n",
       "    </tr>\n",
       "    <tr>\n",
       "      <th>2001</th>\n",
       "      <td>11914398</td>\n",
       "    </tr>\n",
       "    <tr>\n",
       "      <th>Beijing</th>\n",
       "      <th>2010</th>\n",
       "      <td>11716620</td>\n",
       "    </tr>\n",
       "    <tr>\n",
       "      <th>Moskva</th>\n",
       "      <th>2010</th>\n",
       "      <td>11612885</td>\n",
       "    </tr>\n",
       "    <tr>\n",
       "      <th>São Paulo</th>\n",
       "      <th>2010</th>\n",
       "      <td>11152344</td>\n",
       "    </tr>\n",
       "    <tr>\n",
       "      <th>Tianjin</th>\n",
       "      <th>2010</th>\n",
       "      <td>11090314</td>\n",
       "    </tr>\n",
       "    <tr>\n",
       "      <th>Guangzhou</th>\n",
       "      <th>2010</th>\n",
       "      <td>11071424</td>\n",
       "    </tr>\n",
       "    <tr>\n",
       "      <th>Delhi</th>\n",
       "      <th>2011</th>\n",
       "      <td>11034555</td>\n",
       "    </tr>\n",
       "    <tr>\n",
       "      <th>Moskva</th>\n",
       "      <th>2002</th>\n",
       "      <td>10382754</td>\n",
       "    </tr>\n",
       "  </tbody>\n",
       "</table>\n",
       "</div>"
      ],
      "text/plain": [
       "                Population\n",
       "City      Year            \n",
       "Shanghai  2010    22315474\n",
       "          2000    15758892\n",
       "Delhi     2001    12877470\n",
       "Mumbai    2011    12442373\n",
       "          2001    11914398\n",
       "Beijing   2010    11716620\n",
       "Moskva    2010    11612885\n",
       "São Paulo 2010    11152344\n",
       "Tianjin   2010    11090314\n",
       "Guangzhou 2010    11071424\n",
       "Delhi     2011    11034555\n",
       "Moskva    2002    10382754"
      ]
     },
     "execution_count": 7,
     "metadata": {},
     "output_type": "execute_result"
    }
   ],
   "source": [
    "city_list = []\n",
    "census_year_list = []\n",
    "population_list = []\n",
    "\n",
    "for element in document.getroot():\n",
    "    #print element.find('name').text\n",
    "    for subelement in element.getiterator('city'):\n",
    "        for subsubelement in subelement.getiterator('population'):\n",
    "            if (subsubelement.get('measured')=='census'):\n",
    "                city_list.append(subelement.find('name').text)\n",
    "                census_year_list.append(np.float(subsubelement.get('year')))\n",
    "                population_list.append(np.float(subsubelement.text))\n",
    "\n",
    "city_year_population = {'City':city_list,'Year':census_year_list,'Population':population_list}\n",
    "df2 = pd.DataFrame(data=city_year_population)\n",
    "df3 = df2.sort_values('Population',ascending=False)\n",
    "df3.head()\n",
    "df3.set_index(['City','Year']).head(12)"
   ]
  },
  {
   "cell_type": "markdown",
   "metadata": {},
   "source": [
    "## 10 ethnic groups with the largest overall populations (sum of best/latest estimates over all countries)"
   ]
  },
  {
   "cell_type": "code",
   "execution_count": 8,
   "metadata": {
    "collapsed": false
   },
   "outputs": [],
   "source": [
    "# Population requirement per country is for the latest estimates, not just necessary census data\n",
    "# We can get this information in the following columns\n",
    "# 1. Country\n",
    "# 2. Ethnic group \n",
    "# 3. Total population\n",
    "# 4. Percentage population\n",
    "# 5. Population\n",
    "\n",
    "Country = []\n",
    "Ethnic_group = []\n",
    "Total_population = []\n",
    "Percent_population = []\n",
    "Ethnic_population = []\n",
    "\n",
    "for element in document.getiterator('country'):\n",
    "    # the country name can be found by element.find('name').text\n",
    "    for i in range(0,len(element.findall('ethnicgroup'))):\n",
    "        #print element.find('name').text, element.findall('ethnicgroup')[i].text, np.float(element.findall('population')[-1].text) ,np.float(element.findall('ethnicgroup')[i].attrib['percentage']), np.float(element.findall('population')[-1].text)*np.float(element.findall('ethnicgroup')[i].attrib['percentage'])/100. # all the ethnic groups in a country\n",
    "        Country.append(element.find('name').text)\n",
    "        Ethnic_group.append(element.findall('ethnicgroup')[i].text)\n",
    "        Total_population.append(np.float(element.findall('population')[-1].text))\n",
    "        Percent_population.append(np.float(element.findall('ethnicgroup')[i].attrib['percentage']))\n",
    "        Ethnic_population.append(np.float(element.findall('population')[-1].text)*np.float(element.findall('ethnicgroup')[i].attrib['percentage'])/100.)\n",
    "        \n",
    "ethnic_populations = {'Country':Country,\n",
    "                      'Ethnicgroup':Ethnic_group,\n",
    "                      'Totalpopulation':Total_population,\n",
    "                      'Percentpopulation':Percent_population,\n",
    "                      'Ethnicpopulation':Ethnic_population}   \n",
    "\n",
    "df4 = pd.DataFrame(data=ethnic_populations)"
   ]
  },
  {
   "cell_type": "code",
   "execution_count": 9,
   "metadata": {
    "collapsed": false
   },
   "outputs": [
    {
     "data": {
      "text/plain": [
       "Ethnicgroup\n",
       "Han Chinese    1.245059e+09\n",
       "Indo-Aryan     8.718156e+08\n",
       "European       4.948722e+08\n",
       "African        3.183251e+08\n",
       "Dravidian      3.027137e+08\n",
       "Mestizo        1.577344e+08\n",
       "Bengali        1.467769e+08\n",
       "Russian        1.318570e+08\n",
       "Japanese       1.265342e+08\n",
       "Malay          1.219936e+08\n",
       "Name: Ethnicpopulation, dtype: float64"
      ]
     },
     "execution_count": 9,
     "metadata": {},
     "output_type": "execute_result"
    }
   ],
   "source": [
    "df4.head(10)\n",
    "df4.groupby(['Ethnicgroup']).sum().sort_values('Ethnicpopulation',ascending=False)['Ethnicpopulation'].head(10)"
   ]
  },
  {
   "cell_type": "markdown",
   "metadata": {
    "collapsed": true
   },
   "source": [
    "## a) Name and country of longest rivers"
   ]
  },
  {
   "cell_type": "code",
   "execution_count": 140,
   "metadata": {
    "collapsed": true
   },
   "outputs": [],
   "source": [
    "document = ET.parse( './data/mondial_database.xml' )\n"
   ]
  },
  {
   "cell_type": "code",
   "execution_count": 141,
   "metadata": {
    "collapsed": false
   },
   "outputs": [],
   "source": [
    "river_name = []\n",
    "river_length = []\n",
    "river_source_code = []\n",
    "for element in document.getiterator('river'):\n",
    "    if (element.find('source') is not None) & (element.find('length') is not None):\n",
    "        river_name.append(element.find('name').text)\n",
    "        river_length.append(np.float(element.find('length').text))\n",
    "        river_source_code.append(element.find('source').attrib['country'].split()[0])\n",
    "\n",
    "river_data = {'country_source_code':river_source_code,\n",
    "              'length':river_length,\n",
    "              'name':river_name}\n",
    "\n",
    "df4 = pd.DataFrame(data=river_data)"
   ]
  },
  {
   "cell_type": "code",
   "execution_count": 142,
   "metadata": {
    "collapsed": false
   },
   "outputs": [],
   "source": [
    "# Dictionary \n",
    "country_car_code = {}\n",
    "for element in document.getiterator('country'):\n",
    "     country_car_code.update({element.attrib['car_code']:element.find('name').text})"
   ]
  },
  {
   "cell_type": "code",
   "execution_count": 143,
   "metadata": {
    "collapsed": false
   },
   "outputs": [],
   "source": [
    "df4['country'] = ''\n",
    "for k in range(len(df4)):\n",
    "    df4.set_value(k,'country',country_car_code[df4['country_source_code'][k]])"
   ]
  },
  {
   "cell_type": "code",
   "execution_count": 150,
   "metadata": {
    "collapsed": false
   },
   "outputs": [
    {
     "data": {
      "text/html": [
       "<div>\n",
       "<table border=\"1\" class=\"dataframe\">\n",
       "  <thead>\n",
       "    <tr style=\"text-align: right;\">\n",
       "      <th></th>\n",
       "      <th>name</th>\n",
       "      <th>length</th>\n",
       "      <th>country</th>\n",
       "    </tr>\n",
       "  </thead>\n",
       "  <tbody>\n",
       "    <tr>\n",
       "      <th>174</th>\n",
       "      <td>Amazonas</td>\n",
       "      <td>6448</td>\n",
       "      <td>Peru</td>\n",
       "    </tr>\n",
       "    <tr>\n",
       "      <th>137</th>\n",
       "      <td>Jangtse</td>\n",
       "      <td>6380</td>\n",
       "      <td>China</td>\n",
       "    </tr>\n",
       "    <tr>\n",
       "      <th>136</th>\n",
       "      <td>Hwangho</td>\n",
       "      <td>4845</td>\n",
       "      <td>China</td>\n",
       "    </tr>\n",
       "    <tr>\n",
       "      <th>123</th>\n",
       "      <td>Lena</td>\n",
       "      <td>4400</td>\n",
       "      <td>Russia</td>\n",
       "    </tr>\n",
       "    <tr>\n",
       "      <th>201</th>\n",
       "      <td>Zaire</td>\n",
       "      <td>4374</td>\n",
       "      <td>Zaire</td>\n",
       "    </tr>\n",
       "    <tr>\n",
       "      <th>138</th>\n",
       "      <td>Mekong</td>\n",
       "      <td>4350</td>\n",
       "      <td>China</td>\n",
       "    </tr>\n",
       "    <tr>\n",
       "      <th>115</th>\n",
       "      <td>Irtysch</td>\n",
       "      <td>4248</td>\n",
       "      <td>Kazakhstan</td>\n",
       "    </tr>\n",
       "    <tr>\n",
       "      <th>186</th>\n",
       "      <td>Niger</td>\n",
       "      <td>4184</td>\n",
       "      <td>Guinea</td>\n",
       "    </tr>\n",
       "    <tr>\n",
       "      <th>160</th>\n",
       "      <td>Missouri</td>\n",
       "      <td>4130</td>\n",
       "      <td>United States</td>\n",
       "    </tr>\n",
       "    <tr>\n",
       "      <th>119</th>\n",
       "      <td>Jenissej</td>\n",
       "      <td>4092</td>\n",
       "      <td>Russia</td>\n",
       "    </tr>\n",
       "  </tbody>\n",
       "</table>\n",
       "</div>"
      ],
      "text/plain": [
       "         name  length        country\n",
       "174  Amazonas    6448           Peru\n",
       "137   Jangtse    6380          China\n",
       "136   Hwangho    4845          China\n",
       "123      Lena    4400         Russia\n",
       "201     Zaire    4374          Zaire\n",
       "138    Mekong    4350          China\n",
       "115   Irtysch    4248     Kazakhstan\n",
       "186     Niger    4184         Guinea\n",
       "160  Missouri    4130  United States\n",
       "119  Jenissej    4092         Russia"
      ]
     },
     "execution_count": 150,
     "metadata": {},
     "output_type": "execute_result"
    }
   ],
   "source": [
    "df4[['name','length','country']].sort_values('length',ascending=False).head(10)"
   ]
  },
  {
   "cell_type": "markdown",
   "metadata": {},
   "source": [
    "## b) Name and country of largest lakes"
   ]
  },
  {
   "cell_type": "code",
   "execution_count": 164,
   "metadata": {
    "collapsed": false
   },
   "outputs": [],
   "source": [
    "lake_name = []\n",
    "lake_area = []\n",
    "lake_source_code = []\n",
    "for element in document.getiterator('lake'):\n",
    "     #print element.find('name').text, element.attrib['country'].split()[0], element.find('area').text\n",
    "    if (element.attrib['country'] is not None) & (element.find('area') is not None):\n",
    "        lake_name.append(element.find('name').text)\n",
    "        lake_area.append(np.float(element.find('area').text))\n",
    "        lake_source_code.append(element.attrib['country'].split()[0])\n",
    "\n",
    "lake_data = {'country_code':lake_source_code,\n",
    "             'area':lake_area,\n",
    "             'name':lake_name}\n",
    "\n",
    "df4 = pd.DataFrame(data=lake_data)"
   ]
  },
  {
   "cell_type": "code",
   "execution_count": 168,
   "metadata": {
    "collapsed": false
   },
   "outputs": [],
   "source": [
    "df4['country'] = ''\n",
    "for k in range(len(df4)):\n",
    "    df4.set_value(k,'country',country_car_code[df4['country_code'][k]])"
   ]
  },
  {
   "cell_type": "code",
   "execution_count": 173,
   "metadata": {
    "collapsed": false
   },
   "outputs": [
    {
     "data": {
      "text/html": [
       "<div>\n",
       "<table border=\"1\" class=\"dataframe\">\n",
       "  <thead>\n",
       "    <tr style=\"text-align: right;\">\n",
       "      <th></th>\n",
       "      <th>name</th>\n",
       "      <th>area</th>\n",
       "      <th>country</th>\n",
       "    </tr>\n",
       "  </thead>\n",
       "  <tbody>\n",
       "    <tr>\n",
       "      <th>54</th>\n",
       "      <td>Caspian Sea</td>\n",
       "      <td>386400</td>\n",
       "      <td>Russia</td>\n",
       "    </tr>\n",
       "    <tr>\n",
       "      <th>107</th>\n",
       "      <td>Lake Superior</td>\n",
       "      <td>82103</td>\n",
       "      <td>Canada</td>\n",
       "    </tr>\n",
       "    <tr>\n",
       "      <th>79</th>\n",
       "      <td>Lake Victoria</td>\n",
       "      <td>68870</td>\n",
       "      <td>Tanzania</td>\n",
       "    </tr>\n",
       "    <tr>\n",
       "      <th>104</th>\n",
       "      <td>Lake Huron</td>\n",
       "      <td>59600</td>\n",
       "      <td>Canada</td>\n",
       "    </tr>\n",
       "    <tr>\n",
       "      <th>106</th>\n",
       "      <td>Lake Michigan</td>\n",
       "      <td>57800</td>\n",
       "      <td>United States</td>\n",
       "    </tr>\n",
       "    <tr>\n",
       "      <th>47</th>\n",
       "      <td>Dead Sea</td>\n",
       "      <td>41650</td>\n",
       "      <td>Israel</td>\n",
       "    </tr>\n",
       "    <tr>\n",
       "      <th>81</th>\n",
       "      <td>Lake Tanganjika</td>\n",
       "      <td>32893</td>\n",
       "      <td>Zaire</td>\n",
       "    </tr>\n",
       "    <tr>\n",
       "      <th>96</th>\n",
       "      <td>Great Bear Lake</td>\n",
       "      <td>31792</td>\n",
       "      <td>Canada</td>\n",
       "    </tr>\n",
       "    <tr>\n",
       "      <th>43</th>\n",
       "      <td>Ozero Baikal</td>\n",
       "      <td>31492</td>\n",
       "      <td>Russia</td>\n",
       "    </tr>\n",
       "    <tr>\n",
       "      <th>87</th>\n",
       "      <td>Lake Malawi</td>\n",
       "      <td>29600</td>\n",
       "      <td>Malawi</td>\n",
       "    </tr>\n",
       "  </tbody>\n",
       "</table>\n",
       "</div>"
      ],
      "text/plain": [
       "                name    area        country\n",
       "54       Caspian Sea  386400         Russia\n",
       "107    Lake Superior   82103         Canada\n",
       "79     Lake Victoria   68870       Tanzania\n",
       "104       Lake Huron   59600         Canada\n",
       "106    Lake Michigan   57800  United States\n",
       "47          Dead Sea   41650         Israel\n",
       "81   Lake Tanganjika   32893          Zaire\n",
       "96   Great Bear Lake   31792         Canada\n",
       "43      Ozero Baikal   31492         Russia\n",
       "87       Lake Malawi   29600         Malawi"
      ]
     },
     "execution_count": 173,
     "metadata": {},
     "output_type": "execute_result"
    }
   ],
   "source": [
    "df4[['name','area','country']].sort_values('area',ascending=False).head(10)"
   ]
  },
  {
   "cell_type": "markdown",
   "metadata": {},
   "source": [
    "## c) Airport for each country of the highest elevation"
   ]
  },
  {
   "cell_type": "code",
   "execution_count": 10,
   "metadata": {
    "collapsed": false,
    "scrolled": false
   },
   "outputs": [],
   "source": [
    "document = ET.parse( './data/mondial_database.xml' )\n",
    "airport_list = []\n",
    "elevation_list = []\n",
    "country_list = []\n",
    "for element in document.getroot():\n",
    "    for subelement in element.getiterator('airport'):\n",
    "        for subsubelement in subelement.getiterator('elevation'):\n",
    "            airport_list.append(subelement.find('name').text)\n",
    "            elevation_list.append(subsubelement.text )\n",
    "            country_list.append(subelement.attrib['country'])"
   ]
  },
  {
   "cell_type": "code",
   "execution_count": 11,
   "metadata": {
    "collapsed": false
   },
   "outputs": [],
   "source": [
    "airport_elevation = {'Airport':airport_list,\n",
    "                     'Elevation':elevation_list,\n",
    "                     'CountryCode':country_list}"
   ]
  },
  {
   "cell_type": "code",
   "execution_count": 12,
   "metadata": {
    "collapsed": false
   },
   "outputs": [],
   "source": [
    "df4 = pd.DataFrame(data=airport_elevation)\n",
    "df4['Elevation'] = df4['Elevation'].astype(float)\n",
    "df4 = df4.sort_values('Elevation',ascending=False)\n",
    "country_code_unduplicate = df4['CountryCode'].drop_duplicates()\n"
   ]
  },
  {
   "cell_type": "code",
   "execution_count": 13,
   "metadata": {
    "collapsed": false
   },
   "outputs": [],
   "source": [
    "for j in range(0,len(country_code_unduplicate)):\n",
    "    if j == 0:\n",
    "        df5 = pd.concat([df4[df4.CountryCode == country_code_unduplicate.iloc[j]].head(1)])\n",
    "    else:\n",
    "        df5 = pd.concat([df5,df4[df4.CountryCode == country_code_unduplicate.iloc[j]].head(1)])        "
   ]
  },
  {
   "cell_type": "code",
   "execution_count": 14,
   "metadata": {
    "collapsed": false
   },
   "outputs": [
    {
     "data": {
      "text/html": [
       "<div>\n",
       "<table border=\"1\" class=\"dataframe\">\n",
       "  <thead>\n",
       "    <tr style=\"text-align: right;\">\n",
       "      <th></th>\n",
       "      <th>Airport</th>\n",
       "      <th>CountryCode</th>\n",
       "      <th>Elevation</th>\n",
       "    </tr>\n",
       "  </thead>\n",
       "  <tbody>\n",
       "    <tr>\n",
       "      <th>80</th>\n",
       "      <td>El Alto Intl</td>\n",
       "      <td>BOL</td>\n",
       "      <td>4063</td>\n",
       "    </tr>\n",
       "    <tr>\n",
       "      <th>219</th>\n",
       "      <td>Lhasa-Gonggar</td>\n",
       "      <td>CN</td>\n",
       "      <td>4005</td>\n",
       "    </tr>\n",
       "    <tr>\n",
       "      <th>813</th>\n",
       "      <td>Juliaca</td>\n",
       "      <td>PE</td>\n",
       "      <td>3827</td>\n",
       "    </tr>\n",
       "    <tr>\n",
       "      <th>334</th>\n",
       "      <td>Mariscal Sucre Intl</td>\n",
       "      <td>EC</td>\n",
       "      <td>2813</td>\n",
       "    </tr>\n",
       "    <tr>\n",
       "      <th>692</th>\n",
       "      <td>Licenciado Adolfo Lopez Mateos Intl</td>\n",
       "      <td>MEX</td>\n",
       "      <td>2581</td>\n",
       "    </tr>\n",
       "    <tr>\n",
       "      <th>279</th>\n",
       "      <td>Eldorado Intl</td>\n",
       "      <td>CO</td>\n",
       "      <td>2549</td>\n",
       "    </tr>\n",
       "    <tr>\n",
       "      <th>345</th>\n",
       "      <td>Asmara Intl</td>\n",
       "      <td>ER</td>\n",
       "      <td>2336</td>\n",
       "    </tr>\n",
       "    <tr>\n",
       "      <th>349</th>\n",
       "      <td>Bole Intl</td>\n",
       "      <td>ETH</td>\n",
       "      <td>2334</td>\n",
       "    </tr>\n",
       "    <tr>\n",
       "      <th>78</th>\n",
       "      <td>Paro</td>\n",
       "      <td>BHT</td>\n",
       "      <td>2235</td>\n",
       "    </tr>\n",
       "    <tr>\n",
       "      <th>1306</th>\n",
       "      <td>Sanaa Intl</td>\n",
       "      <td>YE</td>\n",
       "      <td>2200</td>\n",
       "    </tr>\n",
       "  </tbody>\n",
       "</table>\n",
       "</div>"
      ],
      "text/plain": [
       "                                  Airport CountryCode  Elevation\n",
       "80                           El Alto Intl         BOL       4063\n",
       "219                         Lhasa-Gonggar          CN       4005\n",
       "813                               Juliaca          PE       3827\n",
       "334                   Mariscal Sucre Intl          EC       2813\n",
       "692   Licenciado Adolfo Lopez Mateos Intl         MEX       2581\n",
       "279                         Eldorado Intl          CO       2549\n",
       "345                           Asmara Intl          ER       2336\n",
       "349                             Bole Intl         ETH       2334\n",
       "78                                   Paro         BHT       2235\n",
       "1306                           Sanaa Intl          YE       2200"
      ]
     },
     "execution_count": 14,
     "metadata": {},
     "output_type": "execute_result"
    }
   ],
   "source": [
    "#just the top 10, but all are included\n",
    "df5.head(10)"
   ]
  },
  {
   "cell_type": "code",
   "execution_count": null,
   "metadata": {
    "collapsed": true
   },
   "outputs": [],
   "source": []
  }
 ],
 "metadata": {
  "kernelspec": {
   "display_name": "Python 2",
   "language": "python",
   "name": "python2"
  },
  "language_info": {
   "codemirror_mode": {
    "name": "ipython",
    "version": 2
   },
   "file_extension": ".py",
   "mimetype": "text/x-python",
   "name": "python",
   "nbconvert_exporter": "python",
   "pygments_lexer": "ipython2",
   "version": "2.7.10"
  }
 },
 "nbformat": 4,
 "nbformat_minor": 0
}
